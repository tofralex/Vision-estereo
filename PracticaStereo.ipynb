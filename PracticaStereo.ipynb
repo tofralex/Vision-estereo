{
 "cells": [
  {
   "cell_type": "markdown",
   "metadata": {},
   "source": [
    "# Práctica de reconstrucción.  Parte II. Visión estéreo"
   ]
  },
  {
   "cell_type": "markdown",
   "metadata": {},
   "source": [
    "Visión Computacional <br>\n",
    "Alumno 1: Alejandro Francisco Toral <br>\n",
    "Alumno 2: Enrique Martín López "
   ]
  },
  {
   "cell_type": "markdown",
   "metadata": {},
   "source": [
    "## 1. Introducción"
   ]
  },
  {
   "cell_type": "markdown",
   "metadata": {},
   "source": [
    "En los problemas de visión estéreo se supondrá la existencia de un par de cámaras calibradas cuyas matrices de proyección $\\mathbf{P}_i$ vienen dadas\n",
    "por $$\\mathbf{P}_1 = \\mathbf{K}_1\\cdot\\begin{bmatrix}\\mathbf{I} & \\mathbf{0}\\end{bmatrix}\\cdot\n",
    "    \\begin{bmatrix}\n",
    "        \\mathbf{R}_1 & \\mathbf{t}_1\\\\ \\mathbf{0}^T & 1\n",
    "    \\end{bmatrix},$$ $$\\mathbf{P}_2 = \\mathbf{K}_2\\cdot\\begin{bmatrix}\\mathbf{I} & \\mathbf{0}\\end{bmatrix}\\cdot\n",
    "    \\begin{bmatrix}\n",
    "        \\mathbf{R}_2 & \\mathbf{t}_2\\\\ \\mathbf{0}^T & 1\n",
    "    \\end{bmatrix}.$$\n",
    "    \n",
    "En esta práctica se usarán las matrices de proyección de\n",
    "dos cámaras para determinar la posición tridimensional\n",
    "de puntos de una escena. Esto es posible siempre que se\n",
    "conozcan las proyecciones de cada punto en ambas cámaras. Desafortunadamente, esta información no suele estar\n",
    "disponible y para obtenerla es preciso emplear el contenido\n",
    "de las imágenes (sus píxeles) en un proceso de búsqueda\n",
    "conocido como puesta en correspondencia. Conocer las matrices de proyección de las cámaras permite acotar el área\n",
    "de búsqueda gracias a las restricciones que proporciona la\n",
    "geometría epipolar."
   ]
  },
  {
   "cell_type": "code",
   "execution_count": 1,
   "metadata": {},
   "outputs": [],
   "source": [
    "import numpy as np\n",
    "import scipy.misc as scpm\n",
    "import scipy.ndimage as scnd\n",
    "import matplotlib.pyplot as ppl\n",
    "import numpy.linalg as npla\n",
    "import maxflow.fastmin\n",
    "import imageio\n",
    "import misc\n",
    "import cv2\n",
    "\n",
    "def im2float(im):\n",
    "  return cv2.normalize(im.astype('float'), None, 0.0, 1.0, cv2.NORM_MINMAX)"
   ]
  },
  {
   "cell_type": "markdown",
   "metadata": {},
   "source": [
    "## 1. Reconstrucción"
   ]
  },
  {
   "cell_type": "markdown",
   "metadata": {},
   "source": [
    "Teniendo un conjunto de correspondencias entre dos\n",
    "imágenes, con matrices de calibración $P_i$ conocidas, es\n",
    "posible llevar a cabo una reconstrucción tridimensional de\n",
    "dichos puntos. En el fichero ``cameras.npz`` se encuentran\n",
    "las matrices de proyección para las dos cámaras. Para cargar\n",
    "este fichero:"
   ]
  },
  {
   "cell_type": "code",
   "execution_count": 2,
   "metadata": {},
   "outputs": [],
   "source": [
    "cameras = np.load(\"cameras.npz\")\n",
    "P1 = cameras[\"left\"]\n",
    "P2 = cameras[\"right\"]"
   ]
  },
  {
   "cell_type": "markdown",
   "metadata": {},
   "source": [
    "Todas las imágenes con el prefijo minoru comparten este par de matrices de proyección.\n",
    "\n",
    "Leemos las imágenes y marcammos al menos seis puntos correspondientes en cada una de ella."
   ]
  },
  {
   "cell_type": "code",
   "execution_count": 3,
   "metadata": {},
   "outputs": [],
   "source": [
    "img1 = imageio.imread(\"images/minoru_cube3_left.jpg\")\n",
    "img2 = imageio.imread(\"images/minoru_cube3_right.jpg\")\n",
    "\n",
    "img1 = im2float(img1)\n",
    "img2 = im2float(img2)"
   ]
  },
  {
   "cell_type": "code",
   "execution_count": 4,
   "metadata": {},
   "outputs": [
    {
     "name": "stdout",
     "output_type": "stream",
     "text": [
      "Points 1:  [[104.53225806 210.98387097 300.40322581 198.20967742 118.72580645\n",
      "  199.62903226 287.62903226]\n",
      " [ 25.25483871  55.06129032  28.09354839   3.96451613 141.64193548\n",
      "  198.41612903 148.73870968]\n",
      " [  1.           1.           1.           1.           1.\n",
      "    1.           1.        ]]\n",
      "Points 2:  [[ 10.08064516  83.88709677 205.9516129  116.53225806  27.11290323\n",
      "   98.08064516 203.11290323]\n",
      " [ 30.93225806  56.48064516  32.3516129    2.54516129 152.99677419\n",
      "  205.51290323 155.83548387]\n",
      " [  1.           1.           1.           1.           1.\n",
      "    1.           1.        ]]\n"
     ]
    }
   ],
   "source": [
    "%matplotlib tk\n",
    "ppl.figure()\n",
    "pt1, pt2 = misc.askpoints(img1,img2)\n",
    "\n",
    "print(\"Points 1: \", pt1)\n",
    "print(\"Points 2: \", pt2)\n",
    "ppl.close('all')"
   ]
  },
  {
   "cell_type": "markdown",
   "metadata": {},
   "source": [
    "**Ejercicio 1.** Implementa la función ``M = reconstruct(points1, points2, P1, P2)``\n",
    "que, dados una serie de N puntos 2D ``points1`` de la primera imagen y sus \n",
    "N homólogos ``points2`` de la segunda imagen\n",
    "(ambos en coordenadas homogéneas, 3 x N), y el par de matrices\n",
    "de proyección P1 y P2 de la primera y la segunda cámara\n",
    "respectivamente, calcule la reconstrucción tridimensional\n",
    "de cada punto. De ese modo, si ``points1`` y\n",
    "``points2`` son 3 × N , la matriz resultante M debe ser 4 × N.\n",
    "\n",
    "El tipo de reconstrucción debe ser algebraico, no geométrico.\n"
   ]
  },
  {
   "cell_type": "code",
   "execution_count": 5,
   "metadata": {},
   "outputs": [],
   "source": [
    "def reconstruct(points1, points2, P1, P2):\n",
    "    \"\"\"Reconstruct a set of points projected on two images.\"\"\"\n",
    "\n",
    "    M = np.zeros((4, points1.shape[1]))\n",
    "    \n",
    "    for i in range(points1.shape[1]):\n",
    "        # Transform homog to cartesian co-ordinates\n",
    "        points1_cart = [points1[0,i]/points1[2,i], points1[1,i]/points1[2,i]]\n",
    "        points2_cart = [points2[0,i]/points2[2,i], points2[1,i]/points2[2,i]]\n",
    "\n",
    "        # build coefficient matrix and compute reconstruction by least-squares. \n",
    "        # Useful functions are npla.lstsq() and npla.pinv()\n",
    "\n",
    "        A = np.zeros((4,3))\n",
    "        b = np.zeros((4,1))\n",
    "        \n",
    "        i1 = points1_cart[0]\n",
    "        j1 = points1_cart[1]\n",
    "        \n",
    "        i2 = points2_cart[0]\n",
    "        j2 = points2_cart[1]\n",
    "        A[0,0], A[0,1], A[0,2] = (P1[0,0]-P1[2,0]*j1), (P1[0,1]-P1[2,1]*j1), (P1[0,2]-P1[2,2]*j1)\n",
    "        A[1,0], A[1,1], A[1,2] = (P1[1,0]-P1[2,0]*i1), (P1[1,1]-P1[2,1]*i1), (P1[1,2]-P1[2,2]*i1)\n",
    "\n",
    "        A[2,0], A[2,1], A[2,2] = (P2[0,0]-P2[2,0]*j2), (P2[0,1]-P2[2,1]*j2), (P2[0,2]-P2[2,2]*j2)\n",
    "        A[3,0], A[3,1], A[3,2] = (P2[1,0]-P2[2,0]*i2), (P2[1,1]-P2[2,1]*i2), (P2[1,2]-P2[2,2]*i2)\n",
    "\n",
    "        b[0,0] = (P1[0,3]-P1[2,3]*j1)\n",
    "        b[1,0] = (P1[1,3]-P1[2,3]*i1)\n",
    "\n",
    "        b[2,0] = (P2[0,3]-P2[2,3]*j1)\n",
    "        b[3,0] = (P2[1,3]-P2[2,3]*i2)\n",
    "        \n",
    "        M[:-1, i] = np.linalg.lstsq(A,b, rcond=None)[0].flatten().tolist()\n",
    "        M[-1, i] = 1\n",
    "        \n",
    "    return M"
   ]
  },
  {
   "cell_type": "markdown",
   "metadata": {},
   "source": [
    "Reconstruye los puntos marcados y pinta su estructura 3D."
   ]
  },
  {
   "cell_type": "code",
   "execution_count": 6,
   "metadata": {
    "pixiedust": {
     "displayParams": {}
    }
   },
   "outputs": [
    {
     "name": "stdout",
     "output_type": "stream",
     "text": [
      "M shape:  (3, 7)\n",
      "M:  [[-560.06605127 -532.99737726 -544.15464525 -554.49902329 -560.52413893\n",
      "  -544.80345195 -551.2958346 ]\n",
      " [-137.19578682 -129.26197963 -135.38717531 -144.7994756  -119.76434104\n",
      "  -116.87841033 -121.76343784]\n",
      " [-197.97692441 -193.46657102 -212.72856007 -208.1968134  -200.0994581\n",
      "  -200.71522949 -218.1965102 ]]\n"
     ]
    },
    {
     "data": {
      "text/plain": [
       "<mpl_toolkits.mplot3d.axes3d.Axes3D at 0x23137af0040>"
      ]
     },
     "execution_count": 6,
     "metadata": {},
     "output_type": "execute_result"
    },
    {
     "data": {
      "image/png": "[encoded data removed]",
      "text/plain": [
       "<Figure size 432x288 with 1 Axes>"
      ]
     },
     "metadata": {
      "needs_background": "light"
     },
     "output_type": "display_data"
    }
   ],
   "source": [
    "# reconstruct\n",
    "M=reconstruct(pt1, pt2, P1, P2)\n",
    "\n",
    "# convert from homog to cartesian\n",
    "M[0] = np.divide(M[0], M[-1])\n",
    "M[1] = np.divide(M[1], M[-1])\n",
    "M[2] = np.divide(M[2], M[-1])\n",
    "\n",
    "M = M[:-1]\n",
    "print(\"M shape: \", M.shape)\n",
    "print(\"M: \",M)\n",
    "\n",
    "%matplotlib inline\n",
    "# plot 3D\n",
    "ppl.figure()\n",
    "misc.plot3D(M[0,:],M[1,:],M[2,:])"
   ]
  },
  {
   "cell_type": "markdown",
   "metadata": {},
   "source": [
    "**Ejercicio 2.**  Elige un par estéreo de las imágenes del conjunto \"building\" de la práctica de calibración y realiza una reconstrucción de un conjunto de puntos de dicho edificio estableciendo las correspondencias a mano."
   ]
  },
  {
   "cell_type": "code",
   "execution_count": 7,
   "metadata": {},
   "outputs": [],
   "source": [
    "#build1 = imageio.imread(\"../Practica2/building/build_001.jpg\")\n",
    "#build2 = imageio.imread(\"../Practica2/building/build_004.jpg\")\n",
    "\n",
    "# build1 = im2float(build1)\n",
    "# build2 = im2float(build2)\n",
    "\n",
    "# ppl.figure()\n",
    "# pt1_2, pt2_2 = misc.askpoints(build1,build2)\n",
    "\n",
    "# print(\"Points 1: \", pt1_2)\n",
    "# print(\"Points 2: \", pt2_2)\n",
    "\n",
    "# P1_2 = ...\n",
    "# P2_2 = ...\n",
    "\n",
    "# reconstruct\n",
    "# M_2=reconstruct(pt1_2, pt2_2, P1_2, P2_2)\n",
    "\n",
    "# convert from homog to cartesian\n",
    "# M_2[0] = np.divide(M_2[0], M_2[-1])\n",
    "# M_2[1] = np.divide(M_2[1], M_2[-1])\n",
    "# M_2[2] = np.divide(M_2[2], M_2[-1])\n",
    "\n",
    "# M_2 = M_2[:-1]\n",
    "# # print(\"M shape: \", M_2.shape)\n",
    "# print(\"M: \",M_2)\n",
    "\n",
    "# plot 3D\n",
    "# ppl.figure()\n",
    "# misc.plot3D(M_2[0,:],M_2[1,:],M_2[2,:])"
   ]
  },
  {
   "cell_type": "markdown",
   "metadata": {},
   "source": [
    "**Ejercicio 3.**  Reproyecta los resultados de la reconstrucción\n",
    "en las dos cámaras y dibuja las proyecciones sobre las\n",
    "imágenes originales. Pinta también en otro color los puntos seleccionados manualmente. Comprueba si las proyecciones coinciden con los puntos marcados a mano. Comenta los resultados.\n",
    "Para dibujar los puntos puedes usar la función plothom\n",
    "de la práctica anterior o la versión que se distribuye con esta\n",
    "práctica (misc.plothom)."
   ]
  },
  {
   "cell_type": "code",
   "execution_count": 8,
   "metadata": {},
   "outputs": [],
   "source": [
    "# Proyecto los puntos en ambas cámaras\n",
    "# proy1 = np.dot(M,P1)\n",
    "# proy2 = np.dot(M,P2)\n",
    "\n",
    "# Pinto con misc.plothom()\n",
    "# ppl.figure()\n",
    "# misc.plothom(proy1,'r.')\n",
    "# ppl.imshow(img1)\n",
    "# ppl.show()\n",
    "\n",
    "# ppl.figure()\n",
    "# misc.plothom(proy2,'r.')\n",
    "# ppl.imshow(img2)\n",
    "# ppl.show()"
   ]
  },
  {
   "cell_type": "code",
   "execution_count": 9,
   "metadata": {},
   "outputs": [],
   "source": [
    "# Proyecto los puntos en ambas cámaras\n",
    "# proy1 = np.dot(M_2,P1_2)\n",
    "# proy2 = np.dot(M_2,P2_2)\n",
    "\n",
    "# Pinto con misc.plothom()\n",
    "# ppl.figure()\n",
    "# misc.plothom(proy1,'r.')\n",
    "# ppl.imshow(build1)\n",
    "# ppl.show()\n",
    "\n",
    "# ppl.figure()\n",
    "# misc.plothom(proy2,'r.')\n",
    "# ppl.imshow(build2)\n",
    "# ppl.show()"
   ]
  },
  {
   "cell_type": "markdown",
   "metadata": {},
   "source": [
    "## 2. Geometría epipolar"
   ]
  },
  {
   "cell_type": "markdown",
   "metadata": {},
   "source": [
    "La geometría epipolar deriva de las relaciones que aparecen en las proyecciones de una escena sobre un par de\n",
    "cámaras. La matriz fundamental $\\mathbf{F}$, que depende exclusivamente de la configuración de las cámaras y no de la escena\n",
    "que éstas observan, es la representación algebráica de dicha\n",
    "geometría: a partir de ella se pueden calcular los epipolos\n",
    "y las líneas epipolares. La relación entre un par de cámaras\n",
    "$\\mathbf{P}_1$, $\\mathbf{P}_2$ y la matriz fundamental es de n -a- 1 (salvo factor de\n",
    "escala). Es decir, dadas dos cámaras calibradas, sólo tienen\n",
    "una matriz fundamental (excepto un factor de escala); dada\n",
    "una matriz fundamental existen infinitas configuraciones de\n",
    "cámaras posibles asociadas a ella."
   ]
  },
  {
   "cell_type": "markdown",
   "metadata": {},
   "source": [
    "### 2.1 Estimación de la matriz fundamental"
   ]
  },
  {
   "cell_type": "markdown",
   "metadata": {},
   "source": [
    "**Ejercicio 4.** Implementa la función ``F = projmat2f(P1, P2)``\n",
    "que, dadas dos matrices de proyección, calcule la matriz\n",
    "fundamental asociada a las mismas. $\\mathbf{F}$ debe ser tal que,\n",
    "si $m_1$ de la imagen 1 y $m_2$ de la imagen 2 están en\n",
    "correspondencia, entonces $m_2^\\top F m_1 = 0$."
   ]
  },
  {
   "cell_type": "code",
   "execution_count": 10,
   "metadata": {},
   "outputs": [],
   "source": [
    "def projmat2f(P1,P2):\n",
    "    \"\"\" Calcula la matriz fundamental a partir de dos de proyeccion\"\"\"\n",
    "    \n",
    "    A_inv = npla.inv(P1[:,0:3])\n",
    "    b = np.array([P1[:,3]]).transpose()\n",
    "\n",
    "    B_inv = npla.inv(P2[:,0:3])\n",
    "    d = np.array([P2[:,3]]).transpose()\n",
    "\n",
    "    sub = B_inv.dot(d) - A_inv.dot(b)\n",
    "\n",
    "    return B_inv.transpose().dot(misc.skew(sub[:,0])).dot(A_inv)"
   ]
  },
  {
   "cell_type": "code",
   "execution_count": 11,
   "metadata": {
    "scrolled": true
   },
   "outputs": [],
   "source": [
    "# compute Fundamental matrix\n",
    "F = projmat2f(P1, P2)"
   ]
  },
  {
   "cell_type": "code",
   "execution_count": 12,
   "metadata": {},
   "outputs": [
    {
     "name": "stdout",
     "output_type": "stream",
     "text": [
      "[[ 8.37918051e-09 -2.64352488e-06  8.61307712e-04]\n",
      " [ 8.17120601e-06  4.36740640e-06  1.37641120e-01]\n",
      " [-2.27541839e-03 -1.42176580e-01  7.61491838e-03]]\n",
      "Rank of F:  2\n"
     ]
    }
   ],
   "source": [
    "print(F)\n",
    "print(\"Rank of F: \", npla.matrix_rank(F))"
   ]
  },
  {
   "cell_type": "markdown",
   "metadata": {},
   "source": [
    "**Ejercicio 5** ¿Cómo es la matriz fundamental de dos cámaras\n",
    "que comparten el mismo centro? (Por ejemplo, dos cámaras\n",
    "que se diferencian sólo por una rotación.)"
   ]
  },
  {
   "cell_type": "markdown",
   "metadata": {},
   "source": [
    "Si comparten el mismo centro, entonces P= K[I|0] y P′ = K′[R|t] de donde t=0 porque comparten el mismo centro y por tanto P′ = K′[R|0], y por tanto la matriz F = K′⊤[t]×RK^−1 = [K′t]×K′RK−1 = K′RK^−1, es decir la K correspondiente a cada cámara y la matriz de Rotación R que las diferencia. F = K′RK^−1"
   ]
  },
  {
   "cell_type": "markdown",
   "metadata": {},
   "source": [
    "### 2.2 Comprobación de F (OPCIONAL)"
   ]
  },
  {
   "cell_type": "markdown",
   "metadata": {},
   "source": [
    "En los siguientes dos ejercicios vamos a comprobar que la matriz F estimada a partir de P1 y P2 es correcta."
   ]
  },
  {
   "cell_type": "markdown",
   "metadata": {},
   "source": [
    "**Ejercicio 6.** Comprueba que F es la matriz fundamental asociada a las cámaras ``P1`` y ``P2``. Para ello puedes utilizar el resultado 9.12, que aparece en la página 255 del libro Hartley, Zisserman. \"Multipe View Geometry in Computer Vision.\" (sedond edition). Cambridge University Press, 2003."
   ]
  },
  {
   "cell_type": "markdown",
   "metadata": {},
   "source": [
    "F es la matriz fundamental si $\\mathbf{P}_2^T \\mathbf{F} \\mathbf{P}_1$ es skew symmetric:"
   ]
  },
  {
   "cell_type": "code",
   "execution_count": 13,
   "metadata": {},
   "outputs": [
    {
     "name": "stdout",
     "output_type": "stream",
     "text": [
      "[[-2.92495773e-15 -7.03485803e-01 -6.00041642e+01  1.09871679e+04]\n",
      " [ 7.03485803e-01  5.19699988e-16 -3.08433134e+00  1.98740801e+02]\n",
      " [ 6.00041642e+01  3.08433134e+00 -9.96871248e-15 -3.12199487e+04]\n",
      " [-1.09871679e+04 -1.98740801e+02  3.12199487e+04 -4.23152887e-10]]\n",
      "Is F correct?:  True\n"
     ]
    }
   ],
   "source": [
    "is_skew_symmetric = P2.transpose().dot(F).dot(P1)\n",
    "print(is_skew_symmetric)\n",
    "\n",
    "#Si da valores muy cercanos a 0 la siguiente operación, entonces F es correcta\n",
    "print(\"Is F correct?: \", ((is_skew_symmetric + is_skew_symmetric.transpose()) < 0.01).all())"
   ]
  },
  {
   "cell_type": "markdown",
   "metadata": {},
   "source": [
    "También se puede comprobar geométricamente la bondad de una matriz F, si  las epipolares con ella estimadas pasan por el homólogo de un punto dado en una de las imágenes.\n",
    "\n",
    "Dada la matriz fundamental $\\mathbf{F}$ entre las cámaras 1 y 2,\n",
    "se puede determinar, para un determinado punto $m_1$ en la\n",
    "imagen de la cámara 1, cuál es la recta epipolar $l_2$ donde se\n",
    "encontrará su homólogo en la cámara 2: $$l_2 = \\mathbf{F} m_1.$$\n",
    "\n",
    "Las siguientes dos funciones sirven para comprobar esta\n",
    "propiedad. En primer lugar, se necesita una función que\n",
    "dibuje rectas expresadas en coordenadas homogéneas, es\n",
    "decir, la versión de plothom para rectas en lugar de puntos."
   ]
  },
  {
   "cell_type": "markdown",
   "metadata": {},
   "source": [
    "**Ejercicio 7.** Implementa la función ``plothline(line)``\n",
    "que, dada una línea expresada en coordenadas homogéneas,\n",
    "la dibuje."
   ]
  },
  {
   "cell_type": "code",
   "execution_count": 14,
   "metadata": {
    "scrolled": true
   },
   "outputs": [],
   "source": [
    "def plothline(line, axes = None):\n",
    "    \"\"\"Plot a line given its homogeneous coordinates.\n",
    "    \n",
    "    Parameters\n",
    "    ----------\n",
    "    line : array_like\n",
    "        Homogeneous coordinates of the line.\n",
    "    axes : AxesSubplot\n",
    "        Axes where the line should be plotted. If not given,\n",
    "        line will be plotted in the active axis.\n",
    "    \"\"\"\n",
    "    if axes == None:\n",
    "        axes = ppl.gca()\n",
    "    \n",
    "    [x0, x1, y0, y1] = axes.axis()\n",
    "\n",
    "    #     (x0, y0) ._____________________. (x1, y0)\n",
    "    #              |                     |\n",
    "    #              |                     |\n",
    "    #              |                     |\n",
    "    #              |                     |\n",
    "    #              |                     |\n",
    "    #              |                     |\n",
    "    #     (x0, y1) .---------------------. (x1, y1)\n",
    " \n",
    "    # TODO: Compute the intersection of the line with the image\n",
    "    # borders.\n",
    "    a = line[0]\n",
    "    b = line[1]\n",
    "    c = line[2]\n",
    "    \n",
    "    ay = (x0*a+c)/-b\n",
    "    by = (x1*a+c)/-b\n",
    "        \n",
    "    # TODO: Plot the line with axes.plot.\n",
    "    #axes.plot(...)\n",
    "    plotline = axes.plot([x0,x1], [ay,by], 'r-')\n",
    "    \n",
    "    axes.axis([x0, x1, y0, y1])\n",
    "    return plotline"
   ]
  },
  {
   "cell_type": "markdown",
   "metadata": {},
   "source": [
    "**Ejercicio 8.** Completa la función ``plot_epipolar_lines(image1, image2, F)``\n",
    "que, dadas dos imágenes y la matriz fundamental que\n",
    "las relaciona, pide al usuario puntos en la imagen 1 y\n",
    "dibuje sus correspondientes epipolares en la imagen 2 usando ``plothline``."
   ]
  },
  {
   "cell_type": "code",
   "execution_count": 15,
   "metadata": {},
   "outputs": [],
   "source": [
    "def plot_epipolar_lines(image1, image2, F):\n",
    "    \"\"\"Ask for points in one image and draw the epipolar lines for those points.\n",
    "    \n",
    "    Parameters\n",
    "    ----------\n",
    "    image1 : array_like\n",
    "        First image.\n",
    "    image2 : array_like\n",
    "        Second image.\n",
    "    F : array_like\n",
    "        3x3 fundamental matrix from image1 to image2.\n",
    "    \"\"\"\n",
    "    # Prepare the two images.\n",
    "    fig = ppl.gcf()\n",
    "    fig.clf()\n",
    "    ax1 = fig.add_subplot(1, 2, 1)\n",
    "    ax1.imshow(image1)\n",
    "    ax1.axis('image')\n",
    "    ax2 = fig.add_subplot(1, 2, 2)\n",
    "    ax2.imshow(image2)\n",
    "    ax2.axis('image')\n",
    "    ppl.draw()\n",
    "    \n",
    "    ax1.set_xlabel(\"Choose points in left image (or right click to end)\")\n",
    "    point = ppl.ginput(1, timeout=-1, show_clicks=False, mouse_pop=2, mouse_stop=3)\n",
    "    while len(point) != 0:\n",
    "        # point has the coordinates of the selected point in the first image.\n",
    "        point = np.hstack([np.array(point[0]), 1])\n",
    "        ax1.plot(point[0], point[1], '.r')\n",
    "        \n",
    "        # TODO: Determine the epipolar line.\n",
    "        line = F.dot(point)\n",
    "        print(\"epipolar line: \", line)\n",
    "        # Plot the epipolar line with plothline (the parameter 'axes' should be ax2).\n",
    "        plothline(line, axes=ax2)\n",
    "        \n",
    "        ppl.draw()\n",
    "        # Ask for a new point.\n",
    "        point = ppl.ginput(1, timeout=-1, show_clicks=False, mouse_pop=2, mouse_stop=3)\n",
    "    \n",
    "    ax1.set_xlabel('')\n",
    "    ppl.draw()"
   ]
  },
  {
   "cell_type": "markdown",
   "metadata": {},
   "source": [
    "Utiliza esta función con un par de imágenes llamándola\n",
    "de dos formas diferentes: seleccionando puntos en la imagen\n",
    "izquierda y dibujando las epipolares en la imagen derecha\n",
    "y viceversa. Comprueba en ambos casos que las epipolares\n",
    "siempre pasan por el punto de la segunda imagen correspondiente al seleccionado en la primera. Esto confirmara la corrección de la matriz F.\n",
    "\n",
    "Añade dos figuras una que muestre la selección de puntos en\n",
    "la imagen izquierda y las rectas correspondientes en la\n",
    "imagen derecha, y otra que lo haga al revés. Indica para\n",
    "ambos casos qué matriz fundamental has usado al llamar a\n",
    "``plot_epipolar_lines``."
   ]
  },
  {
   "cell_type": "code",
   "execution_count": 16,
   "metadata": {
    "scrolled": true
   },
   "outputs": [
    {
     "name": "stdout",
     "output_type": "stream",
     "text": [
      "epipolar line:  [ 7.99197698e-04  1.38622569e-01 -3.62554653e+00]\n",
      "epipolar line:  [ 7.13720021e-04  1.39565395e-01 -8.48976811e+00]\n",
      "epipolar line:  [ 7.89546958e-04  1.40206875e-01 -4.66694311e+00]\n",
      "epipolar line:  [ 8.52535822e-04  1.39324438e-01 -1.01997488e+00]\n",
      "epipolar line:  [ 4.61615751e-04  1.39284851e-01 -2.18165247e+01]\n",
      "epipolar line:  [ 3.42226459e-04  1.40144293e-01 -2.84581819e+01]\n",
      "epipolar line:  [ 4.66759335e-04  1.40635599e-01 -2.19925919e+01]\n"
     ]
    }
   ],
   "source": [
    "%matplotlib tk\n",
    "ppl.close('all')\n",
    "plot_epipolar_lines(img1, img2, F)"
   ]
  },
  {
   "cell_type": "code",
   "execution_count": 17,
   "metadata": {},
   "outputs": [
    {
     "name": "stdout",
     "output_type": "stream",
     "text": [
      "epipolar line:  [ 7.94613086e-04  1.37816919e-01 -3.60127172e+00]\n",
      "epipolar line:  [ 7.01440921e-04  1.38586577e-01 -8.81741732e+00]\n",
      "epipolar line:  [ 7.73741725e-04  1.39454615e-01 -5.25775422e+00]\n",
      "epipolar line:  [ 8.44341826e-04  1.38664161e-01 -1.23625459e+00]\n",
      "epipolar line:  [ 4.57054925e-04  1.38502397e-01 -2.17987091e+01]\n",
      "epipolar line:  [ 3.03825377e-04  1.39348041e-01 -3.02371797e+01]\n",
      "epipolar line:  [ 4.51037354e-04  1.39964524e-01 -2.26060104e+01]\n"
     ]
    }
   ],
   "source": [
    "ppl.close('all')\n",
    "plot_epipolar_lines(img2, img1, F)"
   ]
  },
  {
   "cell_type": "markdown",
   "metadata": {},
   "source": [
    "##  3. Rectificación de imágenes"
   ]
  },
  {
   "cell_type": "markdown",
   "metadata": {},
   "source": [
    "Es recomendable trabajar a partir de ahora con imágenes\n",
    "en blanco y negro y con valores reales entre 0 y 1 para cada\n",
    "uno de sus píxeles. Eso se puede conseguir con"
   ]
  },
  {
   "cell_type": "code",
   "execution_count": 18,
   "metadata": {},
   "outputs": [],
   "source": [
    "img1 = misc.rgb2gray(img1/255.0)\n",
    "img2 = misc.rgb2gray(img2/255.0)"
   ]
  },
  {
   "cell_type": "markdown",
   "metadata": {},
   "source": [
    "La mayoría de algoritmos de puesta en correspondencia,\n",
    "incluyendo el que se va a implementar en esta práctica,\n",
    "requieren que las imágenes de entrada estén rectificadas.\n",
    "\n",
    "Dos imágenes están rectificadas si sus correspondientes epipolares están alineadas horizontalmente. La rectificación de\n",
    "imágenes facilita enormemente los algoritmos de puesta en\n",
    "correspondencia, que pasan de ser problemas de búsqueda\n",
    "bidimensional a problemas de búsqueda unidimensional\n",
    "sobre filas de píxeles de las imágenes. En el material de\n",
    "la práctica se han incluido dos funciones que rectifican\n",
    "(mediante un método lineal) dos imágenes. La función\n",
    "``H1, H2 = misc.projmat2rectify(P1, P2, imsize)``\n",
    "devuelve, dadas las dos matrices de proyección y el tamaño de las imágenes en formato (filas,columnas), las\n",
    "homografías que rectifican, respectivamente, la imagen 1\n",
    "y la imagen 2. La función ``projmat2rectify`` hace uso\n",
    "de ``projmat2f``, por lo que\n",
    "es necesario que esta función esté disponible."
   ]
  },
  {
   "cell_type": "markdown",
   "metadata": {},
   "source": [
    "**Ejercicio 9.** Se tienen dos imágenes no rectificadas ``im1`` e\n",
    "``im2``, y su matriz fundamental asociada $\\mathbf{F}$ . Con el procedimiento explicado, se encuentran un par de homografías $\\mathbf{H}_1$ y $\\mathbf{H}_2$ que dan lugar a las imágenes rectificadas ``O1`` y ``O2``. ¿Cuál es la matriz fundamental $\\mathbf{F}′$ asociada a estas dos imágenes? ¿Por qué?\n",
    "\n",
    "Nota: F ′ depende exclusivamente de F , H1 y H2."
   ]
  },
  {
   "cell_type": "markdown",
   "metadata": {},
   "source": [
    "Tenemos que $\\mathbf{F}′ = (\\mathbf{H}_2^{-1})^{T} \\mathbf{F} \\mathbf{H_1^{-1}}$\n",
    "\n",
    "Dados dos puntos $\\mathbf{m}_1'$  y $\\mathbf{m}_2'$ en correspondencia con las imagenes rectificadas ``O1`` y ``O2`` tenemos que $\\mathbf{m}_2'^{T} \\mathbf{F}' \\mathbf{m}_1' = 0$. Con las homografías podríamos calcular los puntos $\\mathbf{m}_1 = \\mathbf{m}_1' \\mathbf{H_1^{-1}}$ y $\\mathbf{m}_2 = \\mathbf{m}_2' \\mathbf{H_2^{-1}}$ de las imágenes que no están rectificadas. Si igualamos ambas expresiones y despejamos se obtiene la expresión inicial y por tanto podemos obtener $\\mathbf{F}′$"
   ]
  },
  {
   "cell_type": "markdown",
   "metadata": {},
   "source": [
    "**Ejercicio 10.** Rectifica el par de imágenes estéreo ``img1`` e ``img2`` y calcula\n",
    "la matriz fundamental asociada a estas imágenes."
   ]
  },
  {
   "cell_type": "code",
   "execution_count": 19,
   "metadata": {},
   "outputs": [
    {
     "name": "stdout",
     "output_type": "stream",
     "text": [
      "[[ 7.74352126e-24  1.01528784e-17  1.06264448e-15]\n",
      " [-9.60207857e-18 -6.55100207e-19  5.22829530e-02]\n",
      " [-1.08431671e-15 -5.22829530e-02  1.03130599e-13]]\n"
     ]
    }
   ],
   "source": [
    "H1, H2 = misc.projmat2rectify(P1, P2, projmat2f, img1.shape)\n",
    "O1, O2 = misc.rectify_images(img1, img2, H1, H2)\n",
    "\n",
    "F_r = npla.inv(H2).transpose().dot(F).dot(npla.inv(H1))\n",
    "print(F_r)"
   ]
  },
  {
   "cell_type": "code",
   "execution_count": 20,
   "metadata": {},
   "outputs": [
    {
     "data": {
      "text/plain": [
       "<matplotlib.image.AxesImage at 0x23138bdf0d0>"
      ]
     },
     "execution_count": 20,
     "metadata": {},
     "output_type": "execute_result"
    },
    {
     "data": {
      "image/png": "[encoded data removed]",
      "text/plain": [
       "<Figure size 432x288 with 1 Axes>"
      ]
     },
     "metadata": {
      "needs_background": "light"
     },
     "output_type": "display_data"
    },
    {
     "data": {
      "image/png": "[encoded data removed]",
      "text/plain": [
       "<Figure size 432x288 with 1 Axes>"
      ]
     },
     "metadata": {
      "needs_background": "light"
     },
     "output_type": "display_data"
    }
   ],
   "source": [
    "%matplotlib inline\n",
    "ppl.close('all')\n",
    "ppl.imshow(O1)\n",
    "ppl.figure()\n",
    "ppl.imshow(O2)"
   ]
  },
  {
   "cell_type": "markdown",
   "metadata": {},
   "source": [
    "**Ejercicio 11.** Calcula y muestra la matriz fundamental de las imágenes\n",
    "rectificadas. Justifica el resultado obtenido (mira la sección 9.3.1 del libro de Hartley y Zisserman, pág. 248 y 249)."
   ]
  },
  {
   "cell_type": "code",
   "execution_count": 21,
   "metadata": {},
   "outputs": [
    {
     "data": {
      "text/plain": [
       "array([[-1.48107955e-22, -1.94190990e-16, -2.03248748e-14],\n",
       "       [ 1.83656010e-16,  1.25299006e-17, -1.00000000e+00],\n",
       "       [ 2.07393930e-14,  1.00000000e+00, -1.97254732e-12]])"
      ]
     },
     "execution_count": 21,
     "metadata": {},
     "output_type": "execute_result"
    }
   ],
   "source": [
    "Fr=F_r\n",
    "Fr=Fr/Fr[2,1]\n",
    "Fr"
   ]
  },
  {
   "cell_type": "markdown",
   "metadata": {},
   "source": []
  },
  {
   "cell_type": "markdown",
   "metadata": {},
   "source": [
    "**Ejercicio 12.** Usa ``plot_epipolar_lines`` para dibujar varias líneas epiplares de las imágenes rectificadas. Muestra los resultados."
   ]
  },
  {
   "cell_type": "code",
   "execution_count": 22,
   "metadata": {},
   "outputs": [
    {
     "name": "stdout",
     "output_type": "stream",
     "text": [
      "epipolar line:  [-3.51469972e-14 -1.00000000e+00  7.63274194e+01]\n",
      "epipolar line:  [-5.04959371e-14 -1.00000000e+00  1.55367742e+02]\n",
      "epipolar line:  [-3.64261176e-14 -1.00000000e+00  8.29141129e+01]\n",
      "epipolar line:  [-2.44880478e-14 -1.00000000e+00  2.14383065e+01]\n",
      "epipolar line:  [-9.78217480e-14 -1.00000000e+00  3.99075403e+02]\n",
      "epipolar line:  [-1.30225043e-13 -1.00000000e+00  5.65938306e+02]\n",
      "epipolar line:  [-1.01659018e-13 -1.00000000e+00  4.18835484e+02]\n"
     ]
    }
   ],
   "source": [
    "%matplotlib tk\n",
    "ppl.close('all')\n",
    "plot_epipolar_lines(O1,O2,Fr)"
   ]
  },
  {
   "cell_type": "markdown",
   "metadata": {},
   "source": [
    "## 4. Búsqueda de correspondencias"
   ]
  },
  {
   "cell_type": "markdown",
   "metadata": {},
   "source": [
    "La búsqueda de correspondencias consigue establecer automáticamente las correspondencias de puntos entre dos\n",
    "imágenes (lo que se ha hecho manualmente en el ejercicio 2)\n",
    "haciendo uso de las restricciones que proporciona la geometría epipolar."
   ]
  },
  {
   "cell_type": "markdown",
   "metadata": {},
   "source": [
    "### 4.1 Cálculo de las medidas de similaridad"
   ]
  },
  {
   "cell_type": "markdown",
   "metadata": {},
   "source": [
    "Una vez rectificadas las dos imágenes de un par estéreo,\n",
    "se pueden buscar las correspondencias. Una matriz de disparidades $\\mathbf{S}$ indica, para cada píxel de la imagen 1\n",
    "rectificada, a cuántos píxeles de diferencia está su correspondencia\n",
    "en la imagen 2 rectificada. En nuestra práctica, para simplificar el problema, vamos a considerar que los elementos\n",
    "de $\\mathbf{S}$ son enteros. Para el píxel en la posición $(x, y)$ en la\n",
    "imagen 1, su correspondiente está en $(x + S[y, x], y)$ en la\n",
    "imagen 2. Si $S[y, x] < 0$, la correspondencia está hacia la\n",
    "izquierda; si $S[y, x] > 0$, la correspondencia está hacia la\n",
    "derecha; si $S[y, x] = 0$, las coordenadas de los dos puntos\n",
    "coinciden en ambas imágenes.\n",
    "\n",
    "La búsqueda de correspondencias requiere ser capaz de\n",
    "determinar el parecido visual entre píxeles de dos imágenes.\n",
    "Si los píxeles $m_1$ y $m_2$ son visualmente parecidos, tienen\n",
    "más probabilidad de estar en correspondencia que otros\n",
    "que sean visualmente diferentes. Como la\n",
    "apariencia (el nivel de gris) de un único píxel es propensa\n",
    "al ruido y poco discriminativa, el elemento de puesta en\n",
    "correspondencia será una ventana centrada en el píxel.\n",
    "Dado un píxel $m$ de una imagen, llamaremos vecindad\n",
    "del píxel de radio $K$ al conjunto de píxeles de la imagen que se encuentren dentro de una ventana de tamaño\n",
    "$(2K + 1) × (2K + 1)$ píxeles centrada en $m$ . El número de\n",
    "píxeles de una vecindad de radio $K$ es $N = (2K + 1)^2$.\n",
    "Dadas dos vecindades $w_1$ y $w_2$ de dos píxeles, el parecido\n",
    "visual entre ellas puede calcularse con la suma de *diferencias\n",
    "al cuadrado (SSD)* de cada una de sus componentes\n",
    "$$d_{SSD}(\\mathbf{v}, \\mathbf{w}) = \\sum_{i=1}^N(\\mathbf{v}_i - \\mathbf{w}_i)^2.$$\n",
    "\n",
    "La distancia $d_{SSD}$ es siempre positiva, es pequeña cuando\n",
    "dos ventanas son visualmente parecidas y grande en caso\n",
    "contrario."
   ]
  },
  {
   "cell_type": "markdown",
   "metadata": {},
   "source": [
    "**Ejercicio 13.** Implementa la función\n",
    "``C = localssd(im1, im2, K)``\n",
    "que calcula la suma de diferencias al cuadrado entre las\n",
    "ventanas de radio K de la imagen 1 y la imagen 2. El\n",
    "resultado debe ser una matriz del mismo tamaño que las\n",
    "imágenes de entrada que contenga en cada punto el valor\n",
    "de $d_{SSD}$ para la ventana de la imagen 1 y la ventana\n",
    "de la imagen 2 centradas en él. Es decir, $C[i,j]$ debe\n",
    "ser el resultado de $d_{SSD}$ para las ventanas centradas en\n",
    "$im1[i,j]$ e $im2[i,j]$.\n",
    "\n",
    "Para este ejercicio puede resultar útil la función\n",
    "``scipy.ndimage.convolve``."
   ]
  },
  {
   "cell_type": "code",
   "execution_count": 23,
   "metadata": {},
   "outputs": [],
   "source": [
    "from scipy.ndimage import convolve\n",
    "def localssd(im1, im2, K):\n",
    "    \"\"\"\n",
    "    The local sum of squared differences between windows of two images.\n",
    "    \n",
    "    The size of each window is (2K+1)x(2K+1).\n",
    "    \"\"\"\n",
    "    convolution = convolve((im1-im2)**2, np.ones((K*2+1, K*2+1)), mode='constant', cval=0.0)\n",
    "    return convolution"
   ]
  },
  {
   "cell_type": "markdown",
   "metadata": {},
   "source": [
    "**Ejercicio 14.** Implementa la función ``D = ssd_volume(im1, im2, disps, K)`` que calcula la suma de diferencias al cuadrado entre las\n",
    "ventanas de la imagen ``im1`` y la imagen ``im2`` desplazada\n",
    "horizontalmente. El parámetro ``disps`` debe ser una lista\n",
    "de valores indicando las disparidades que se usarán para desplazar la imagen ``im2``. Por ejemplo, si ``disps`` es\n",
    "``np.arange(-3,2)``, se llamará 5 veces a ``localssd`` para la\n",
    "imagen 1 y la imagen 2 desplazada −3 , −2 , −1 , 0 y 1 píxeles\n",
    "en sentido horizontal. K es el parámetro que indica el radio\n",
    "de las ventanas usado por localssd.\n",
    "\n",
    "El valor devuelto D será un array de tamaño $M × N × L$,\n",
    "donde L es el número de disparidades indicadas por ``disps``,\n",
    "``L = len(disps)`` (es decir, el número de veces que se ha\n",
    "llamado a ``localssd``); M y N son, respectivamente, el\n",
    "número de filas y de columnas de las imágenes de entrada.\n",
    "El elemento ``D[y,x,l]`` debe ser la SSD entre la ventana\n",
    "centrada en ``im1[y,x]`` y la ventana centrada en ``im2[y,x + disps[l]]``.\n",
    "\n",
    "``D[y,x,l]`` debe ser muy grande para aquellos valores en\n",
    "los que ``im2[y,x + disps[l]]`` no esté definido, es decir,\n",
    "el índice``(y,x+disps[l])`` se sale de la imagen 2."
   ]
  },
  {
   "cell_type": "code",
   "execution_count": 24,
   "metadata": {},
   "outputs": [],
   "source": [
    "def ssd_volume(im1, im2, disps, K):\n",
    "    \"\"\"\n",
    "    Calcula el volumen de disparidades SSD\n",
    "    \"\"\"\n",
    "    D = np.empty((im1.shape[0], im1.shape[1], len(disps)))\n",
    "\n",
    "    for i, d in enumerate(disps):\n",
    "        h, w = im2.shape\n",
    "        desplazamiento = np.ones((h, abs(d)))*10000000\n",
    "        D[:,:,i] = localssd(im1, np.hstack((im2[:, d:], desplazamiento)), K)\n",
    "    return D"
   ]
  },
  {
   "cell_type": "markdown",
   "metadata": {},
   "source": [
    "**Ejercicio 15.** El conjunto de disparidades ``disps`` debe ser lo más pequeño posible, para mejorar el rendimiento de la optimización. Determina un procedimiento para estimar manualmente el conjunto de disparidades posibles y aplícalo a las imágenes O1 y O2."
   ]
  },
  {
   "cell_type": "markdown",
   "metadata": {},
   "source": [
    "No se nos ha ocurrido una forma así que para poder continuar con la práctica hemos probado distintos valores"
   ]
  },
  {
   "cell_type": "code",
   "execution_count": 25,
   "metadata": {},
   "outputs": [],
   "source": [
    "disps = np.arange(100, 200)"
   ]
  },
  {
   "cell_type": "markdown",
   "metadata": {},
   "source": [
    "Aplica la función ``ssd_volume`` al par de imágenes O1 y O2\n",
    "con las disparidades estimadas en el ejercicio anterior."
   ]
  },
  {
   "cell_type": "code",
   "execution_count": 26,
   "metadata": {},
   "outputs": [
    {
     "data": {
      "text/plain": [
       "(656, 495, 100)"
      ]
     },
     "execution_count": 26,
     "metadata": {},
     "output_type": "execute_result"
    }
   ],
   "source": [
    "%matplotlib inline\n",
    "ppl.close('all')\n",
    "D = ssd_volume(O2, O1, disps, 5)\n",
    "\n",
    "# to speed-up the optimization ahead, discard the par of the image showing only background\n",
    "\n",
    "D.shape"
   ]
  },
  {
   "cell_type": "markdown",
   "metadata": {},
   "source": [
    "### 4.1 Estimación de la disparidad sin regularizar"
   ]
  },
  {
   "cell_type": "markdown",
   "metadata": {},
   "source": [
    "La matriz D calculada en el ejercicio anterior proporciona\n",
    "los costes unitarios $D_i$ de una función de energía sin regularización de la forma $$E(x) = \\sum_{i} D_i(x_i),$$\n",
    "donde $D_i(l)$ viene dado por $D[y,x,l]$, suponiendo que\n",
    "el píxel $i$ tenga coordenadas $(x, y)$. Las variables \n",
    "$x = (x_1 ,\\ldots, x_{NM})$ indican las etiquetas de cada uno de los\n",
    "píxeles. En este caso, las etiquetas son los índices del\n",
    "array ``disps``, que a su vez son las disparidades horizontales.\n",
    "Por eso, a partir de aquí se hablará indistintamente de\n",
    "etiquetas y disparidades. Sólo es necesario recordar que la\n",
    "etiqueta $l$ está asociada a la disparidad ``disps[l]``.\n",
    "\n",
    "\n",
    "Minimizando la energía $x = \\arg\\min_x E(x)$,\n",
    "se obtiene un vector de etiquetas óptimo $x^*$ que indica, para\n",
    "cada píxel, cuál es su disparidad horizontal entre las dos\n",
    "imágenes."
   ]
  },
  {
   "cell_type": "markdown",
   "metadata": {},
   "source": [
    "**Ejercicio 16.** Minimiza $E(x)$ y muestra las disparidades resultantes."
   ]
  },
  {
   "cell_type": "code",
   "execution_count": 27,
   "metadata": {},
   "outputs": [
    {
     "data": {
      "text/plain": [
       "<matplotlib.colorbar.Colorbar at 0x23138c3cbb0>"
      ]
     },
     "execution_count": 27,
     "metadata": {},
     "output_type": "execute_result"
    },
    {
     "data": {
      "image/png": "[encoded data removed]",
      "text/plain": [
       "<Figure size 432x288 with 2 Axes>"
      ]
     },
     "metadata": {
      "needs_background": "light"
     },
     "output_type": "display_data"
    }
   ],
   "source": [
    "disp_res = np.argmin(D, 2)\n",
    "ppl.imshow(disp_res,cmap='gray')\n",
    "ppl.colorbar()"
   ]
  },
  {
   "cell_type": "markdown",
   "metadata": {},
   "source": [
    "### 4.2 Estimación de la disparidad regularizada"
   ]
  },
  {
   "cell_type": "markdown",
   "metadata": {},
   "source": [
    "El etiquetado usando exclusivamente términos unitarios\n",
    "es muy sensible al ruido y propenso a que aparezcan zonas\n",
    "de píxeles cercanos con mucha variación en las etiquetas.\n",
    "Esto es especialmente notable en zonas planas (es decir, sin\n",
    "textura) de las imágenes originales, donde no hay suficiente\n",
    "información para establecer una correspondencia basándose\n",
    "exclusivamente en la apariencia visual de ventanas pequeñas. Por eso es necesario incluir un término de suavizado\n",
    "o regularización en la función de energía. Los tipos de\n",
    "saltos de etiquetas que aparecerán en el resultado final\n",
    "dependerán de cómo sea ese término de suavizado.\n",
    "\n",
    "La función de energía que utilizaremos para calcular\n",
    "las disparidades en la práctica será el resultado de añadir\n",
    "a la expresión (6) un término que penalice los cambios de\n",
    "disparidad en los píxeles vecinos: $$E_r(x) = \\sum_{i} D_i(x_i) + \\lambda\\sum_{ij} \\min(k,|x_i-x_j|).$$ Siendo $j$ los índices de los píxeles vecinos del $i$ en la imagen.\n",
    "La solución al problema de la correspondencia vendrá dado\n",
    "por el conjunto de etiquetas (disparidades) de los píxeles de\n",
    "la imagen que minimicen $E_r(x)$.\n",
    "\n",
    "En [Yuri Boykov, Olga Veksler, and Ramin Zabih. \"Fast approximate\n",
    "energy minimization via graph cuts\". *IEEE Transactions on Pattern\n",
    "Analysis and Machine Intelligence*, 23:1222–1239, 2001.] se presentan métodos para resolver algunos problemas de optimización con varias etiquetas empleando\n",
    "algoritmos de cortes de grafos. Es recomendable repasar las\n",
    "secciones 5 y 8."
   ]
  },
  {
   "cell_type": "markdown",
   "metadata": {},
   "source": [
    "**Ejercicio 17.** Escribe la función ``find_corresp_aexpansion(D, initLabels, lmb, maxV)``,\n",
    "que recibe un volumen ssd, ``D``, un conjunto inicial de\n",
    "etiquetas, ``initLabels``, que puede ser el obtenido en el\n",
    "ejercicio 5, el valor de la constante $\\lambda$, y el valor máximo\n",
    "de la función de coste $|x_i − x_j|$, que tendrás que establecer empíricamente. El resultado de esta función serán las\n",
    "etiquetas que minimizan $E_r(x)$. Para ello debes utilizar la función ``maxflow.fastmin.aexpansion_grid(D, V, max_cycles=None, labels=None)`` del paquete\n",
    "*PyMaxFlow*, que resuelve el problema anterior mediante un\n",
    "algoritmo de cortes de grafos empleando una $\\alpha$-expansión."
   ]
  },
  {
   "cell_type": "code",
   "execution_count": 28,
   "metadata": {},
   "outputs": [],
   "source": [
    "def find_corresp_aexpansion(D, initialLabels, lmb, maxV):\n",
    "    V = np.empty([D.shape[2], D.shape[2]])\n",
    "    for i in range(D.shape[2]):   \n",
    "        for j in range(D.shape[2]):\n",
    "            V[i, j] = min(lmb*np.abs(i-j), maxV)  \n",
    "    return maxflow.fastmin.aexpansion_grid(D, V, max_cycles=1, labels=initialLabels)"
   ]
  },
  {
   "cell_type": "markdown",
   "metadata": {},
   "source": [
    "Llama a esta función y muestra una figura con las etiquetas que resulten de la minimización de la energía para el volumen ssd ``D`` (este proceso puede durar varios minutos)."
   ]
  },
  {
   "cell_type": "code",
   "execution_count": 29,
   "metadata": {},
   "outputs": [],
   "source": [
    "labels = find_corresp_aexpansion(D, disp_res, 1.5, 20)"
   ]
  },
  {
   "cell_type": "code",
   "execution_count": 30,
   "metadata": {},
   "outputs": [
    {
     "data": {
      "text/plain": [
       "<matplotlib.image.AxesImage at 0x23138a34cd0>"
      ]
     },
     "execution_count": 30,
     "metadata": {},
     "output_type": "execute_result"
    },
    {
     "data": {
      "image/png": "[encoded data removed]",
      "text/plain": [
       "<Figure size 432x288 with 1 Axes>"
      ]
     },
     "metadata": {
      "needs_background": "light"
     },
     "output_type": "display_data"
    }
   ],
   "source": [
    "ppl.imshow(labels)"
   ]
  },
  {
   "cell_type": "markdown",
   "metadata": {},
   "source": [
    "La matriz de etiquetas óptimas X obtenida de la minimización de la función de energía puede transformarse en\n",
    "la matriz de disparidades S indexando en cada una de sus\n",
    "celdas el array de disparidades disps ``S = disps[X]``.\n",
    "Ahora, el píxel de coordenadas (x, y) de la primera imagen\n",
    "rectificada tendrá su correspondencia en el píxel de coordenadas (x + S [y, x], y) de la segunda imagen rectificada.\n",
    "\n",
    "El siguiente ejercicio usa la matriz de disparidades para\n",
    "establecer automáticamente las correspondencias entre un\n",
    "par de imágenes sin rectificar."
   ]
  },
  {
   "cell_type": "markdown",
   "metadata": {},
   "source": [
    "**Ejercicio 18.** Implementa la función\n",
    "``plot_correspondences(image1, image2, S, H1,H2)``\n",
    "que, dado un par de imágenes sin rectificar, la matriz de\n",
    "disparidades entre las imágenes rectificadas y las homogra-\n",
    "fías que llevan de las imágenes sin rectificar a las imágenes\n",
    "rectificadas, pida al usuario puntos en la primera imagen y\n",
    "dibuje sus correspondencias en la segunda."
   ]
  },
  {
   "cell_type": "code",
   "execution_count": 31,
   "metadata": {},
   "outputs": [],
   "source": [
    "def plot_correspondences(image1, image2, S, H1, H2):\n",
    "    \"\"\"\n",
    "    Ask for points in the first image and plot their correspondences in\n",
    "    the second image.\n",
    "    \n",
    "    Parameters\n",
    "    ----------\n",
    "    image1, image2 : array_like\n",
    "        The images (before rectification)\n",
    "    S : array_like\n",
    "        The matrix of disparities.\n",
    "    H1, H2 : array_like\n",
    "        The homographies which rectify both images.\n",
    "    \"\"\"\n",
    "    # Prepare the two images.\n",
    "    fig = ppl.gcf()\n",
    "    fig.clf()\n",
    "    ax1 = fig.add_subplot(1, 2, 1)\n",
    "    ax1.imshow(image1)\n",
    "    ax1.axis('image')\n",
    "    ax2 = fig.add_subplot(1, 2, 2)\n",
    "    ax2.imshow(image2)\n",
    "    ax2.axis('image')\n",
    "    ppl.draw()\n",
    "    \n",
    "    ax1.set_xlabel(\"Choose points in left image (or right click to end)\")\n",
    "    point = ppl.ginput(1, timeout=-1, show_clicks=False, mouse_pop=2, mouse_stop=3)\n",
    "    while len(point) != 0:\n",
    "        # point has the coordinates of the selected point in the first image.\n",
    "        point = np.c_[np.array(point), 1].T\n",
    "        ax1.plot(point[0,:], point[1,:], '.r')\n",
    "        \n",
    "        # TODO: Determine the correspondence of 'point' in the second image.\n",
    "        # perhaps you have to swap the image co-ordinates.\n",
    "        c = np.dot(H1, point) / np.dot(H1, point)\n",
    "        d = S[int(c[1]), int(c[0])]\n",
    "        c = np.dot(npla.inv(H2), c[0] - d)\n",
    "        c = (c / c[2])[:2]\n",
    "        \n",
    "        # TODO: Plot the correspondence with ax2.plot.\n",
    "        ax2.plot(c[0], c[1] ,'r.')\n",
    "        \n",
    "        ppl.draw()\n",
    "        # Ask for a new point.\n",
    "        point = ppl.ginput(1, timeout=-1, show_clicks=False, mouse_pop=2, mouse_stop=3)\n",
    "    \n",
    "    ax1.set_xlabel('')\n",
    "    ppl.draw()"
   ]
  },
  {
   "cell_type": "code",
   "execution_count": null,
   "metadata": {},
   "outputs": [],
   "source": [
    "%matplotlib tk\n",
    "ppl.close('all')\n",
    "S = disps[labels]\n",
    "plot_correspondences(img1, img2, S, H1, H2)"
   ]
  },
  {
   "cell_type": "code",
   "execution_count": null,
   "metadata": {},
   "outputs": [],
   "source": []
  }
 ],
 "metadata": {
  "kernelspec": {
   "display_name": "Python 3",
   "language": "python",
   "name": "python3"
  },
  "language_info": {
   "codemirror_mode": {
    "name": "ipython",
    "version": 3
   },
   "file_extension": ".py",
   "mimetype": "text/x-python",
   "name": "python",
   "nbconvert_exporter": "python",
   "pygments_lexer": "ipython3",
   "version": "3.8.2"
  }
 },
 "nbformat": 4,
 "nbformat_minor": 4
}
